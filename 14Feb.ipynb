{
 "cells": [
  {
   "cell_type": "code",
   "execution_count": null,
   "id": "cdcc274e-c6ca-417b-b081-582a52b6eb5f",
   "metadata": {},
   "outputs": [],
   "source": [
    "                                    14 FEBRUARY ASSINGMENT"
   ]
  },
  {
   "cell_type": "code",
   "execution_count": null,
   "id": "d8fcde65-a369-42ca-9910-8f5acfd3ec5a",
   "metadata": {},
   "outputs": [],
   "source": [
    "Q1. What is multithreading in python? why is it used? Name the module used to handle threads in python\n",
    "Ans:- \n",
    "    . Multithreading in Python is a programming concept that allows multiple threads of execution to run concurrently within a single program.\n",
    "    . Multithreading is used to improve the performance of a program, allowing it to perform multiple tasks simultaneously.\n",
    "    . Python provides a built-in threading module to handle threads in a program."
   ]
  },
  {
   "cell_type": "code",
   "execution_count": null,
   "id": "59d9b1b3-78b5-4012-a26a-fe1fef53f882",
   "metadata": {},
   "outputs": [],
   "source": [
    "Q2. Why threading module used? write the use of the following functions.\n",
    "    1.activeCount()\n",
    "    2.currentThread()\n",
    "    3.enumerate()\n",
    "\n",
    "Ans:-\n",
    "The threading module is used in Python to create and manage threads in a program. It provides a high-level interface forcreating and managing threads\n",
    "\n",
    "activeCount(): This function returns the number of active threads in the current thread's context. It is useful for debugging and monitoring purposes.\n",
    "\n",
    "currentThread(): This function returns a reference to the current thread object. It is useful when a thread needs to access its own thread object for \n",
    "                 synchronization or other purposes.\n",
    "\n",
    "enumerate(): This function returns a list of all active Thread objects in the current thread's context. It is useful for debugging and monitoring purposes, \n",
    "            and for iterating over all threads in a program.\n",
    "\n",
    "\n",
    "\n",
    "\n",
    "\n",
    "    "
   ]
  },
  {
   "cell_type": "code",
   "execution_count": null,
   "id": "562a962b-c2a3-442e-8ca6-a0d3bf2aba6a",
   "metadata": {},
   "outputs": [],
   "source": [
    "Q3.Explain the following functions.\n",
    "   1.run()\n",
    "    2.start()\n",
    "    3.join()\n",
    "    4.isAlive()\n",
    "Ans:-\n",
    "run(): This method is called when a new thread is started using the Thread object's constructor. \n",
    "       It should be overridden in the subclass to define the code that will be executed in the new thread.\n",
    "\n",
    "start(): This method starts the execution of a thread. It allocates the necessary resources and calls the run()\n",
    "        method to start the thread's execution.\n",
    "\n",
    "join(): This method blocks the calling thread until the thread on which it is called has finished its execution. \n",
    "        It is useful when the calling thread needs to wait for the completion of a thread before continuing its own execution.\n",
    "\n",
    "isAlive(): This method returns a boolean value indicating whether the thread is still executing or has finished its execution. \n",
    "           It is useful when a thread needs to check the status of another thread."
   ]
  },
  {
   "cell_type": "code",
   "execution_count": null,
   "id": "30c95ece-8b37-43e9-8d01-84b04eab3ec0",
   "metadata": {},
   "outputs": [],
   "source": [
    "Q4.write a python program to create two threads. Thread one must print the list of squares and thread two must print the list of cubes.\n",
    "Ans:-\n",
    "import threading\n",
    "\n",
    "def print_squares():\n",
    "    for i in range(1, 11):\n",
    "        print(f\"Square of {i} is {i**2}\")\n",
    "\n",
    "def print_cubes():\n",
    "    for i in range(1, 11):\n",
    "        print(f\"Cube of {i} is {i**3}\")\n",
    "\n",
    "if __name__ == \"__main__\":\n",
    "    s = threading.Thread(target=print_squares)\n",
    "    q = threading.Thread(target=print_cubes)\n",
    "\n",
    "    s.start()\n",
    "    q.start()\n",
    "\n",
    "    s.join()\n",
    "    q.join()\n"
   ]
  },
  {
   "cell_type": "code",
   "execution_count": null,
   "id": "b7db04a4-2887-4f6d-a7e2-557b261ac93d",
   "metadata": {},
   "outputs": [],
   "source": [
    "Q5. State advantages and disadvantages of multithreading\n",
    "Ans:-\n",
    "\n",
    "#Advantages:-#\n",
    "\n",
    "1. Improved performance:-Multithreading can improve the performance of a program by allowing it to perform multiple tasks simultaneously, \n",
    "                      thereby utilizing the available system resources efficiently.\n",
    "\n",
    "2. Responsiveness:- Multithreading can improve the responsiveness of a program by allowing it to handle multiple tasks concurrently,\n",
    "                   such as accepting user input while processing data in the background.\n",
    "\n",
    "3. Resource sharing:- Multithreading allows multiple threads to share the same resources, such as memory or database connections, \n",
    "                   which can reduce the overall resource usage and improve the program's scalability.\n",
    "\n",
    "4. Modularity:- Multithreading can help to modularize a program's functionality by separating tasks into different threads,\n",
    "             making it easier to manage and maintain the program's code.\n",
    "    \n",
    "    \n",
    "#Disadvantages:-#\n",
    "\n",
    "    \n",
    "1. Complexity:- Multithreaded programs can be more complex and difficult to design, implement, and debug than single-threaded programs.\n",
    "\n",
    "2. Increased debugging difficulty:- Debugging multithreaded programs can be more difficult due to the potential for race conditions, deadlocks,\n",
    "                                   and other concurrency issues.\n",
    "\n",
    "3. Synchronization and concurrency issues:- Multithreaded programs require careful synchronization of access to shared resources to avoid issues \n",
    "                                        such as data corruption and inconsistency.\n",
    "\n",
    "4. Potential for deadlock and race conditions:- Improper use of synchronization mechanisms can lead to deadlock and race conditions,\n",
    "                                              which can cause the program to hang or produce incorrect results."
   ]
  },
  {
   "cell_type": "code",
   "execution_count": null,
   "id": "2fdadf1d-1d43-43e0-ad0f-4424a6f04b09",
   "metadata": {},
   "outputs": [],
   "source": [
    "Q6.Explain deadlocks and race conditions.\n",
    "Ans:-\n",
    "Deadlocks and race conditions are common problems that can occur in multithreaded Python programs.\n",
    "\n",
    "Deadlocks occur when two or more threads are blocked and waiting for each other to release resources that they hold. \n",
    "This can happen when threads acquire locks on resources in a different order, leading to a circular wait where each\n",
    "thread is waiting for the resource that is held by another thread.\n",
    "\n",
    "Race conditions occur when two or more threads access shared data concurrently and the final outcome depends on the order\n",
    "in which the threads execute. Race conditions can cause unpredictable behavior in a program, such as data corruption or inconsistency.\n",
    "\n",
    "To avoid deadlocks in Python, it is important to ensure that threads acquire locks on resources in a consistent order and\n",
    "release them in the reverse order. To avoid race conditions, it is important to use proper synchronization mechanisms, \n",
    "such as locks or semaphores, to ensure that only one thread can access shared data at a time.\n",
    "The threading module in Python provides these synchronization mechanisms to help prevent deadlocks and race conditions.\n",
    "\n",
    "\n",
    "\n",
    "\n",
    "\n"
   ]
  }
 ],
 "metadata": {
  "kernelspec": {
   "display_name": "Python 3 (ipykernel)",
   "language": "python",
   "name": "python3"
  },
  "language_info": {
   "codemirror_mode": {
    "name": "ipython",
    "version": 3
   },
   "file_extension": ".py",
   "mimetype": "text/x-python",
   "name": "python",
   "nbconvert_exporter": "python",
   "pygments_lexer": "ipython3",
   "version": "3.10.8"
  }
 },
 "nbformat": 4,
 "nbformat_minor": 5
}
